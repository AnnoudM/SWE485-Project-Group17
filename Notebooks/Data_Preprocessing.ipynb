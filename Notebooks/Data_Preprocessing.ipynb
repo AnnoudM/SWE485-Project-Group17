{
 "cells": [
  {
   "cell_type": "markdown",
   "id": "4e72673e-ddcc-4873-9e64-737b06de580a",
   "metadata": {},
   "source": [
    "Step 1: Load the dataset: \n",
    "we first load the dataset and check its structure to understand what kind of data we are dealing with."
   ]
  },
  {
   "cell_type": "code",
   "execution_count": 1,
   "id": "ce3b553c-2284-4e6f-bd15-eb7d32eec588",
   "metadata": {},
   "outputs": [
    {
     "name": "stdout",
     "output_type": "stream",
     "text": [
      "<class 'pandas.core.frame.DataFrame'>\n",
      "RangeIndex: 6720 entries, 0 to 6719\n",
      "Data columns (total 11 columns):\n",
      " #   Column                           Non-Null Count  Dtype  \n",
      "---  ------                           --------------  -----  \n",
      " 0   اسم_المدرسة                      6720 non-null   object \n",
      " 1   المنطقة_الإدارية                 6720 non-null   object \n",
      " 2   الإدارة_التعليمية                6707 non-null   object \n",
      " 3   المكتب_التعليمي                  6706 non-null   object \n",
      " 4   السلطة                           6720 non-null   object \n",
      " 5   نوع_التعليم                      6720 non-null   object \n",
      " 6   الجنس                            6720 non-null   object \n",
      " 7   نوع_الاختبار                     6720 non-null   object \n",
      " 8   تخصص_الاختبار                    6720 non-null   object \n",
      " 9   متوسط_أداء_الطلبة_في_المدرسة     6720 non-null   float64\n",
      " 10  ترتيب_المدرسة_على_مستوى_المدارس  6720 non-null   int64  \n",
      "dtypes: float64(1), int64(1), object(9)\n",
      "memory usage: 577.6+ KB\n"
     ]
    },
    {
     "data": {
      "text/html": [
       "<div>\n",
       "<style scoped>\n",
       "    .dataframe tbody tr th:only-of-type {\n",
       "        vertical-align: middle;\n",
       "    }\n",
       "\n",
       "    .dataframe tbody tr th {\n",
       "        vertical-align: top;\n",
       "    }\n",
       "\n",
       "    .dataframe thead th {\n",
       "        text-align: right;\n",
       "    }\n",
       "</style>\n",
       "<table border=\"1\" class=\"dataframe\">\n",
       "  <thead>\n",
       "    <tr style=\"text-align: right;\">\n",
       "      <th></th>\n",
       "      <th>اسم_المدرسة</th>\n",
       "      <th>المنطقة_الإدارية</th>\n",
       "      <th>الإدارة_التعليمية</th>\n",
       "      <th>المكتب_التعليمي</th>\n",
       "      <th>السلطة</th>\n",
       "      <th>نوع_التعليم</th>\n",
       "      <th>الجنس</th>\n",
       "      <th>نوع_الاختبار</th>\n",
       "      <th>تخصص_الاختبار</th>\n",
       "      <th>متوسط_أداء_الطلبة_في_المدرسة</th>\n",
       "      <th>ترتيب_المدرسة_على_مستوى_المدارس</th>\n",
       "    </tr>\n",
       "  </thead>\n",
       "  <tbody>\n",
       "    <tr>\n",
       "      <th>0</th>\n",
       "      <td>أم سلمة الثانوية للموهوبات - مقررات</td>\n",
       "      <td>مكة المكرمة</td>\n",
       "      <td>الإدارة العامة للتعليم بمنطقة مكة المكرمة</td>\n",
       "      <td>مكتب التعليم جنوب مكة المكرمة</td>\n",
       "      <td>حكومي</td>\n",
       "      <td>تعليم عام بنات</td>\n",
       "      <td>بنات</td>\n",
       "      <td>قدرات</td>\n",
       "      <td>علمي</td>\n",
       "      <td>89.622377</td>\n",
       "      <td>1</td>\n",
       "    </tr>\n",
       "    <tr>\n",
       "      <th>1</th>\n",
       "      <td>ثانوية الرواد الأهلية ( الازدهار ) - مقررات</td>\n",
       "      <td>الرياض</td>\n",
       "      <td>الإدارة العامة للتعليم بمنطقة الرياض</td>\n",
       "      <td>شمال</td>\n",
       "      <td>أهلي</td>\n",
       "      <td>تعليم عام بنات</td>\n",
       "      <td>بنات</td>\n",
       "      <td>قدرات</td>\n",
       "      <td>نظري</td>\n",
       "      <td>84.440000</td>\n",
       "      <td>1</td>\n",
       "    </tr>\n",
       "    <tr>\n",
       "      <th>2</th>\n",
       "      <td>ثانوية الموهوبات ( نظام مقررات )</td>\n",
       "      <td>مكة المكرمة</td>\n",
       "      <td>الإدارة العامة للتعليم بمحافظة جدة</td>\n",
       "      <td>مكتب التعليم بشمال جدة</td>\n",
       "      <td>حكومي</td>\n",
       "      <td>تعليم عام بنات</td>\n",
       "      <td>بنات</td>\n",
       "      <td>قدرات</td>\n",
       "      <td>علمي</td>\n",
       "      <td>89.280423</td>\n",
       "      <td>2</td>\n",
       "    </tr>\n",
       "    <tr>\n",
       "      <th>3</th>\n",
       "      <td>الثانوية السادسة لتحفيظ القرآن الكريم 6 - مقررات</td>\n",
       "      <td>الرياض</td>\n",
       "      <td>الإدارة العامة للتعليم بمنطقة الرياض</td>\n",
       "      <td>شمال</td>\n",
       "      <td>حكومي</td>\n",
       "      <td>تحفيظ بنات</td>\n",
       "      <td>بنات</td>\n",
       "      <td>قدرات</td>\n",
       "      <td>نظري</td>\n",
       "      <td>83.550000</td>\n",
       "      <td>2</td>\n",
       "    </tr>\n",
       "    <tr>\n",
       "      <th>4</th>\n",
       "      <td>ثانوية مدارس الظهران الاهلية (مقررات)</td>\n",
       "      <td>الشرقية</td>\n",
       "      <td>الإدارة العامة للتعليم بالمنطقة الشرقية</td>\n",
       "      <td>مكتب التعليم بمحافظة الخبر</td>\n",
       "      <td>أهلي</td>\n",
       "      <td>تعليم عام بنات</td>\n",
       "      <td>بنات</td>\n",
       "      <td>قدرات</td>\n",
       "      <td>علمي</td>\n",
       "      <td>88.903225</td>\n",
       "      <td>3</td>\n",
       "    </tr>\n",
       "  </tbody>\n",
       "</table>\n",
       "</div>"
      ],
      "text/plain": [
       "                                        اسم_المدرسة المنطقة_الإدارية  \\\n",
       "0               أم سلمة الثانوية للموهوبات - مقررات      مكة المكرمة   \n",
       "1       ثانوية الرواد الأهلية ( الازدهار ) - مقررات           الرياض   \n",
       "2                  ثانوية الموهوبات ( نظام مقررات )      مكة المكرمة   \n",
       "3  الثانوية السادسة لتحفيظ القرآن الكريم 6 - مقررات           الرياض   \n",
       "4             ثانوية مدارس الظهران الاهلية (مقررات)          الشرقية   \n",
       "\n",
       "                           الإدارة_التعليمية                المكتب_التعليمي  \\\n",
       "0  الإدارة العامة للتعليم بمنطقة مكة المكرمة  مكتب التعليم جنوب مكة المكرمة   \n",
       "1       الإدارة العامة للتعليم بمنطقة الرياض                           شمال   \n",
       "2         الإدارة العامة للتعليم بمحافظة جدة         مكتب التعليم بشمال جدة   \n",
       "3       الإدارة العامة للتعليم بمنطقة الرياض                           شمال   \n",
       "4    الإدارة العامة للتعليم بالمنطقة الشرقية     مكتب التعليم بمحافظة الخبر   \n",
       "\n",
       "  السلطة     نوع_التعليم الجنس نوع_الاختبار تخصص_الاختبار  \\\n",
       "0  حكومي  تعليم عام بنات  بنات        قدرات          علمي   \n",
       "1   أهلي  تعليم عام بنات  بنات        قدرات          نظري   \n",
       "2  حكومي  تعليم عام بنات  بنات        قدرات          علمي   \n",
       "3  حكومي      تحفيظ بنات  بنات        قدرات          نظري   \n",
       "4   أهلي  تعليم عام بنات  بنات        قدرات          علمي   \n",
       "\n",
       "   متوسط_أداء_الطلبة_في_المدرسة  ترتيب_المدرسة_على_مستوى_المدارس  \n",
       "0                     89.622377                                1  \n",
       "1                     84.440000                                1  \n",
       "2                     89.280423                                2  \n",
       "3                     83.550000                                2  \n",
       "4                     88.903225                                3  "
      ]
     },
     "execution_count": 1,
     "metadata": {},
     "output_type": "execute_result"
    }
   ],
   "source": [
    "import pandas as pd\n",
    "\n",
    "file_path = \"../Dataset/Averages in in General Aptitude Tests aa.csv\"\n",
    "df = pd.read_csv(file_path)\n",
    "\n",
    "#Display basic info about the dataset\n",
    "df.info()  # Shows column names, data types, and missing values\n",
    "df.head()  # Displays the first 5 rows\n"
   ]
  },
  {
   "cell_type": "markdown",
   "id": "37a431b1-4b4b-4fdf-8654-9fcfe911cc60",
   "metadata": {},
   "source": [
    "Step 2: Check for Missing Values & Handle Them:"
   ]
  },
  {
   "cell_type": "code",
   "execution_count": 2,
   "id": "d799d6e1-31ce-4626-b96f-f765bf2ac2c1",
   "metadata": {},
   "outputs": [
    {
     "name": "stdout",
     "output_type": "stream",
     "text": [
      "Missing Values:\n",
      " اسم_المدرسة                         0\n",
      "المنطقة_الإدارية                    0\n",
      "الإدارة_التعليمية                  13\n",
      "المكتب_التعليمي                    14\n",
      "السلطة                              0\n",
      "نوع_التعليم                         0\n",
      "الجنس                               0\n",
      "نوع_الاختبار                        0\n",
      "تخصص_الاختبار                       0\n",
      "متوسط_أداء_الطلبة_في_المدرسة        0\n",
      "ترتيب_المدرسة_على_مستوى_المدارس     0\n",
      "dtype: int64\n"
     ]
    }
   ],
   "source": [
    "# Count missing values for each column\n",
    "missing_values = df.isnull().sum()\n",
    "print(\"Missing Values:\\n\", missing_values)\n"
   ]
  },
  {
   "cell_type": "code",
   "execution_count": 3,
   "id": "aeb290ad-20b5-4ab1-b74e-a72c48ee8ad2",
   "metadata": {},
   "outputs": [],
   "source": [
    "# Replace missing values with \"Unknown\" for categorical columns and 0 for numerical columns\n",
    "df.fillna(\"Unknown\", inplace=True)\n"
   ]
  },
  {
   "cell_type": "markdown",
   "id": "4c07fbd0-cff6-413d-967b-b754ee6f4f52",
   "metadata": {},
   "source": [
    "Explanation\n",
    "Step 1 (Checking Missing Values): We print the number of missing values per column to decide how to handle them.\n",
    "Step 2 (Handling Missing Values):\n",
    "If a column is categorical (text-based), missing values are replaced with \"Unknown\", so the machine learning model does not receive empty inputs.\n",
    "If a column is numerical, missing values are replaced with 0, so calculations like mean, variance, and scaling are not affected."
   ]
  },
  {
   "cell_type": "code",
   "execution_count": null,
   "id": "48c812b5-b4b3-4c82-b040-75b0071ffbbc",
   "metadata": {},
   "outputs": [],
   "source": []
  }
 ],
 "metadata": {
  "kernelspec": {
   "display_name": "Python 3 (ipykernel)",
   "language": "python",
   "name": "python3"
  },
  "language_info": {
   "codemirror_mode": {
    "name": "ipython",
    "version": 3
   },
   "file_extension": ".py",
   "mimetype": "text/x-python",
   "name": "python",
   "nbconvert_exporter": "python",
   "pygments_lexer": "ipython3",
   "version": "3.13.1"
  }
 },
 "nbformat": 4,
 "nbformat_minor": 5
}
